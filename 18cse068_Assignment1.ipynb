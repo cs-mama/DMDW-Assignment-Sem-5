{
  "nbformat": 4,
  "nbformat_minor": 0,
  "metadata": {
    "colab": {
      "name": "18cse068_Assignment1.ipynb",
      "provenance": [],
      "authorship_tag": "ABX9TyPqjBvVC3GEwVFcsvnQ4D1h",
      "include_colab_link": true
    },
    "kernelspec": {
      "name": "python3",
      "display_name": "Python 3"
    }
  },
  "cells": [
    {
      "cell_type": "markdown",
      "metadata": {
        "id": "view-in-github",
        "colab_type": "text"
      },
      "source": [
        "<a href=\"https://colab.research.google.com/github/cs-mama/DMDW-Assignment-Sem-5/blob/main/18cse068_Assignment1.ipynb\" target=\"_parent\"><img src=\"https://colab.research.google.com/assets/colab-badge.svg\" alt=\"Open In Colab\"/></a>"
      ]
    },
    {
      "cell_type": "code",
      "metadata": {
        "id": "52SDOgv11BWf"
      },
      "source": [
        "data = [98.2,76.3,33.5,22.6,98.2,15.0,108.9,32.7]"
      ],
      "execution_count": 1,
      "outputs": []
    },
    {
      "cell_type": "code",
      "metadata": {
        "id": "w_bG4DLZ1C4S"
      },
      "source": [
        "import numpy as np\r\n",
        "from scipy import stats"
      ],
      "execution_count": 2,
      "outputs": []
    },
    {
      "cell_type": "code",
      "metadata": {
        "colab": {
          "base_uri": "https://localhost:8080/"
        },
        "id": "jtFTupyR1G36",
        "outputId": "2ff46311-ae47-4f44-bdb4-0d16704ded1c"
      },
      "source": [
        "#MEAN\r\n",
        "\r\n",
        "mean_with = np.mean(data)\r\n",
        "\r\n",
        "print(\"Mean =\",mean_with)"
      ],
      "execution_count": 4,
      "outputs": [
        {
          "output_type": "stream",
          "text": [
            "Mean = 60.675\n"
          ],
          "name": "stdout"
        }
      ]
    },
    {
      "cell_type": "code",
      "metadata": {
        "colab": {
          "base_uri": "https://localhost:8080/"
        },
        "id": "d5Oa7LBl1n9S",
        "outputId": "e1db6137-52ba-4a1f-9f39-21288fffc945"
      },
      "source": [
        "#MEDIAN\r\n",
        "\r\n",
        "median_with = np.median(data)\r\n",
        "\r\n",
        "print(\"Median =\",median_with)"
      ],
      "execution_count": 5,
      "outputs": [
        {
          "output_type": "stream",
          "text": [
            "Median = 54.9\n"
          ],
          "name": "stdout"
        }
      ]
    },
    {
      "cell_type": "code",
      "metadata": {
        "colab": {
          "base_uri": "https://localhost:8080/"
        },
        "id": "yq8YTBeb1xKq",
        "outputId": "d9914ccd-e3fd-4fa9-f920-5da80f71bfa3"
      },
      "source": [
        "#MODE\r\n",
        "\r\n",
        "mode_with = stats.mode(data)\r\n",
        "\r\n",
        "print(\"Mode =\",mode_with)"
      ],
      "execution_count": 6,
      "outputs": [
        {
          "output_type": "stream",
          "text": [
            "Mode = ModeResult(mode=array([98.2]), count=array([2]))\n"
          ],
          "name": "stdout"
        }
      ]
    },
    {
      "cell_type": "code",
      "metadata": {
        "colab": {
          "base_uri": "https://localhost:8080/"
        },
        "id": "bBXQ-Fv_1294",
        "outputId": "c1d71ce9-059c-4930-e2eb-d84824c088ec"
      },
      "source": [
        "#STANDARD DEVIATION\r\n",
        "\r\n",
        "std_with = np.std(data)\r\n",
        "\r\n",
        "print(\"Standard Deviation =\",std_with)"
      ],
      "execution_count": 7,
      "outputs": [
        {
          "output_type": "stream",
          "text": [
            "Standard Deviation = 36.13003425129846\n"
          ],
          "name": "stdout"
        }
      ]
    },
    {
      "cell_type": "code",
      "metadata": {
        "colab": {
          "base_uri": "https://localhost:8080/"
        },
        "id": "1jjgOAXG16GU",
        "outputId": "044cf948-9d0a-43fd-9555-d87f82e41745"
      },
      "source": [
        "#VARIANCE\r\n",
        "\r\n",
        "var_with = np.var(data)\r\n",
        "\r\n",
        "print(\"Variance =\",var_with)"
      ],
      "execution_count": 8,
      "outputs": [
        {
          "output_type": "stream",
          "text": [
            "Variance = 1305.379375\n"
          ],
          "name": "stdout"
        }
      ]
    },
    {
      "cell_type": "code",
      "metadata": {
        "colab": {
          "base_uri": "https://localhost:8080/"
        },
        "id": "oldf6ebh2IDb",
        "outputId": "9e83cc5b-1946-46f7-bccd-f09f99f5baf1"
      },
      "source": [
        "#MEAN\r\n",
        "\r\n",
        "sum_of_data = sum(data)\r\n",
        "n = len(data)\r\n",
        "mean_wo = sum_of_data/n\r\n",
        "\r\n",
        "print(\"Mean =\",mean_wo)"
      ],
      "execution_count": 9,
      "outputs": [
        {
          "output_type": "stream",
          "text": [
            "Mean = 60.675000000000004\n"
          ],
          "name": "stdout"
        }
      ]
    },
    {
      "cell_type": "code",
      "metadata": {
        "colab": {
          "base_uri": "https://localhost:8080/"
        },
        "id": "aIGEEvOp2OjS",
        "outputId": "2936e3f8-a6c7-4d24-9bd0-f32b30a983cb"
      },
      "source": [
        "#MEDIAN\r\n",
        "\r\n",
        "data.sort()\r\n",
        "n = len(data)\r\n",
        "if n%2 == 0:\r\n",
        "    median_wo = (data[n//2]+data[n//2 - 1])/2\r\n",
        "else :\r\n",
        "    median_wo = data[n//2]\r\n",
        "\r\n",
        "print(\"Median =\",median_wo)"
      ],
      "execution_count": 10,
      "outputs": [
        {
          "output_type": "stream",
          "text": [
            "Median = 54.9\n"
          ],
          "name": "stdout"
        }
      ]
    },
    {
      "cell_type": "code",
      "metadata": {
        "colab": {
          "base_uri": "https://localhost:8080/"
        },
        "id": "Nwhm5WzL2R8S",
        "outputId": "38448efd-2753-4437-ea08-c130c860a654"
      },
      "source": [
        "#MODE\r\n",
        "\r\n",
        "max = 0\r\n",
        "for i in data: \r\n",
        "    if data.count(i) > max :\r\n",
        "        max = i\r\n",
        "mode_wo = max\r\n",
        "\r\n",
        "print(\"Mode =\",mode_wo)"
      ],
      "execution_count": 11,
      "outputs": [
        {
          "output_type": "stream",
          "text": [
            "Mode = 15.0\n"
          ],
          "name": "stdout"
        }
      ]
    },
    {
      "cell_type": "code",
      "metadata": {
        "colab": {
          "base_uri": "https://localhost:8080/"
        },
        "id": "WV_XsT-42TOs",
        "outputId": "279c222a-6e7e-483f-daf5-1418238915e8"
      },
      "source": [
        "#STANDARD DEVIATION\r\n",
        "\r\n",
        "sum_of_data = sum(data)\r\n",
        "n = len(data)\r\n",
        "mean_wo = sum_of_data/n\r\n",
        "\r\n",
        "#sum of squares for each i-xi\r\n",
        "sum_of_squares = 0\r\n",
        "for i in data :\r\n",
        "    sum_of_squares += (i - mean_wo)**2\r\n",
        "    \r\n",
        "std_wo = (sum_of_squares/(n-1))**(1/2)\r\n",
        "\r\n",
        "print(\"Standard Deviation =\",std_wo)"
      ],
      "execution_count": 12,
      "outputs": [
        {
          "output_type": "stream",
          "text": [
            "Standard Deviation = 38.62463129736183\n"
          ],
          "name": "stdout"
        }
      ]
    },
    {
      "cell_type": "code",
      "metadata": {
        "colab": {
          "base_uri": "https://localhost:8080/"
        },
        "id": "urzfikE92aP6",
        "outputId": "e92c7037-31b8-41ac-df14-361bf50847f3"
      },
      "source": [
        "\r\n",
        "sum_of_data = sum(data)\r\n",
        "n = len(data)\r\n",
        "mean_wo = sum_of_data/n\r\n",
        "\r\n",
        "#sum of squares for each i-xi\r\n",
        "sum_of_squares = 0\r\n",
        "for i in data :\r\n",
        "    sum_of_squares += (i - mean_wo)**2\r\n",
        "    \r\n",
        "std_wo = (sum_of_squares/(n-1))**(1/2)\r\n",
        "\r\n",
        "var_wo = std_wo**2\r\n",
        "\r\n",
        "print(\"Variance =\",var_wo)"
      ],
      "execution_count": 13,
      "outputs": [
        {
          "output_type": "stream",
          "text": [
            "Variance = 1491.862142857143\n"
          ],
          "name": "stdout"
        }
      ]
    }
  ]
}